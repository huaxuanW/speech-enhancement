{
 "cells": [
  {
   "cell_type": "code",
   "execution_count": 30,
   "id": "dabc629c",
   "metadata": {},
   "outputs": [],
   "source": [
    "from scipy.io import wavfile\n",
    "import sys\n",
    "sys.path.append(\"../\") \n",
    "import pysepm"
   ]
  },
  {
   "cell_type": "code",
   "execution_count": 31,
   "id": "b8a77eb8",
   "metadata": {},
   "outputs": [],
   "source": [
    "fs, clean_speech = wavfile.read('recovered2/clean_speech.wav')\n",
    "fs, noisy_speech = wavfile.read('recovered2/mixed_speech.wav')\n",
    "fs, enhanced_speech = wavfile.read('recovered2/recovered_speech.wav')"
   ]
  },
  {
   "cell_type": "code",
   "execution_count": 32,
   "id": "6304650a",
   "metadata": {},
   "outputs": [
    {
     "data": {
      "text/plain": [
       "5.515443144004668"
      ]
     },
     "execution_count": 32,
     "metadata": {},
     "output_type": "execute_result"
    }
   ],
   "source": [
    "pysepm.fwSNRseg(clean_speech, noisy_speech, fs)"
   ]
  },
  {
   "cell_type": "code",
   "execution_count": 33,
   "id": "10639f8c",
   "metadata": {},
   "outputs": [
    {
     "data": {
      "text/plain": [
       "6.020621355804682"
      ]
     },
     "execution_count": 33,
     "metadata": {},
     "output_type": "execute_result"
    }
   ],
   "source": [
    "pysepm.fwSNRseg(clean_speech, enhanced_speech, fs)"
   ]
  },
  {
   "cell_type": "code",
   "execution_count": 34,
   "id": "30042939",
   "metadata": {},
   "outputs": [
    {
     "data": {
      "text/plain": [
       "-3.4405633268038494"
      ]
     },
     "execution_count": 34,
     "metadata": {},
     "output_type": "execute_result"
    }
   ],
   "source": [
    "pysepm.SNRseg(clean_speech, noisy_speech, fs)"
   ]
  },
  {
   "cell_type": "code",
   "execution_count": 35,
   "id": "190e42d5",
   "metadata": {},
   "outputs": [
    {
     "data": {
      "text/plain": [
       "-0.7024382150090325"
      ]
     },
     "execution_count": 35,
     "metadata": {},
     "output_type": "execute_result"
    }
   ],
   "source": [
    "pysepm.SNRseg(clean_speech, enhanced_speech, fs)"
   ]
  },
  {
   "cell_type": "code",
   "execution_count": 36,
   "id": "832d4f01",
   "metadata": {},
   "outputs": [
    {
     "data": {
      "text/plain": [
       "0.8286062085553182"
      ]
     },
     "execution_count": 36,
     "metadata": {},
     "output_type": "execute_result"
    }
   ],
   "source": [
    "pysepm.llr(clean_speech, noisy_speech, fs)"
   ]
  },
  {
   "cell_type": "code",
   "execution_count": 37,
   "id": "cd32c633",
   "metadata": {},
   "outputs": [
    {
     "data": {
      "text/plain": [
       "0.6031839199908849"
      ]
     },
     "execution_count": 37,
     "metadata": {},
     "output_type": "execute_result"
    }
   ],
   "source": [
    "pysepm.llr(clean_speech, enhanced_speech, fs)"
   ]
  },
  {
   "cell_type": "code",
   "execution_count": 42,
   "id": "3ea4a4b5",
   "metadata": {},
   "outputs": [
    {
     "data": {
      "text/plain": [
       "(nan, 1.27018141746521)"
      ]
     },
     "execution_count": 42,
     "metadata": {},
     "output_type": "execute_result"
    }
   ],
   "source": [
    "pysepm.pesq(clean_speech, noisy_speech, fs)"
   ]
  },
  {
   "cell_type": "code",
   "execution_count": 43,
   "id": "2dec5fa3",
   "metadata": {},
   "outputs": [
    {
     "data": {
      "text/plain": [
       "(nan, 1.5848451852798462)"
      ]
     },
     "execution_count": 43,
     "metadata": {},
     "output_type": "execute_result"
    }
   ],
   "source": [
    "pysepm.pesq(clean_speech, enhanced_speech, fs)"
   ]
  },
  {
   "cell_type": "code",
   "execution_count": 40,
   "id": "1eaace81",
   "metadata": {},
   "outputs": [
    {
     "data": {
      "text/plain": [
       "0.8621441579929464"
      ]
     },
     "execution_count": 40,
     "metadata": {},
     "output_type": "execute_result"
    }
   ],
   "source": [
    "pysepm.stoi.stoi(clean_speech, noisy_speech, fs)"
   ]
  },
  {
   "cell_type": "code",
   "execution_count": 41,
   "id": "f9b88137",
   "metadata": {},
   "outputs": [
    {
     "data": {
      "text/plain": [
       "0.8644768448282782"
      ]
     },
     "execution_count": 41,
     "metadata": {},
     "output_type": "execute_result"
    }
   ],
   "source": [
    "pysepm.stoi.stoi(clean_speech, enhanced_speech, fs)"
   ]
  },
  {
   "cell_type": "code",
   "execution_count": null,
   "id": "689aa8d2",
   "metadata": {},
   "outputs": [],
   "source": []
  }
 ],
 "metadata": {
  "kernelspec": {
   "display_name": "Python 3 (ipykernel)",
   "language": "python",
   "name": "python3"
  },
  "language_info": {
   "codemirror_mode": {
    "name": "ipython",
    "version": 3
   },
   "file_extension": ".py",
   "mimetype": "text/x-python",
   "name": "python",
   "nbconvert_exporter": "python",
   "pygments_lexer": "ipython3",
   "version": "3.8.12"
  }
 },
 "nbformat": 4,
 "nbformat_minor": 5
}
